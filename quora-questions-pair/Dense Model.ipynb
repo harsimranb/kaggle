{
 "cells": [
  {
   "cell_type": "markdown",
   "metadata": {},
   "source": [
    "# Dense Model Approach\n",
    "- In this model, I will add two dimensions to each record; one dimension will have question 1 and another dimension will have question 2.\n",
    "\n",
    "## Read Data from CSV File"
   ]
  },
  {
   "cell_type": "code",
   "execution_count": 2,
   "metadata": {},
   "outputs": [],
   "source": [
    "# Read Data\n",
    "import pandas as pd\n",
    "import numpy as np\n",
    "import os\n",
    "\n",
    "data = pd.read_csv('./questions.csv')\n",
    "\n",
    "data.question1 = data.question1.astype(str)\n",
    "data.question2 = data.question2.astype(str)\n",
    "\n",
    "questions_1 = data.question1\n",
    "questions_2 = data.question2\n",
    "is_duplicate = data.is_duplicate\n",
    "num_of_records = len(data)"
   ]
  },
  {
   "cell_type": "markdown",
   "metadata": {},
   "source": [
    "## Preprocess Data\n",
    "We will pad all sentences to 250 characters and tokenize them."
   ]
  },
  {
   "cell_type": "code",
   "execution_count": 3,
   "metadata": {},
   "outputs": [
    {
     "name": "stderr",
     "output_type": "stream",
     "text": [
      "/Users/harsimranb/anaconda3/envs/tensorflow/lib/python3.6/site-packages/h5py/__init__.py:36: FutureWarning: Conversion of the second argument of issubdtype from `float` to `np.floating` is deprecated. In future, it will be treated as `np.float64 == np.dtype(float).type`.\n",
      "  from ._conv import register_converters as _register_converters\n",
      "Using TensorFlow backend.\n"
     ]
    },
    {
     "name": "stdout",
     "output_type": "stream",
     "text": [
      "Shape of questions_1_sequences tensor: (404351, 250)\n",
      "Shape of questions_2_sequences tensor: (404351, 250)\n",
      "Shape of labels tensor: (404351,)\n"
     ]
    }
   ],
   "source": [
    "# Preprocess Data\n",
    "from keras.preprocessing.text import Tokenizer\n",
    "from keras.preprocessing.sequence import pad_sequences\n",
    "\n",
    "maxlen = 250\n",
    "\n",
    "def get_sequences_padded(input_texts):\n",
    "    tokenizer = Tokenizer()\n",
    "    tokenizer.fit_on_texts(input_texts)\n",
    "    seq = tokenizer.texts_to_sequences(input_texts)\n",
    "    seq = pad_sequences(seq, maxlen=maxlen)\n",
    "    return seq\n",
    "\n",
    "labels = np.asarray(is_duplicate).astype('float32')\n",
    "questions_1_sequences = get_sequences_padded(questions_1)\n",
    "questions_2_sequences = get_sequences_padded(questions_2)\n",
    "\n",
    "print('Shape of questions_1_sequences tensor:', questions_1_sequences.shape)\n",
    "print('Shape of questions_2_sequences tensor:', questions_2_sequences.shape)\n",
    "print('Shape of labels tensor:', labels.shape)"
   ]
  },
  {
   "cell_type": "markdown",
   "metadata": {},
   "source": [
    "Now we will distribute the test and train size.  The test data will be 30% of the total data."
   ]
  },
  {
   "cell_type": "code",
   "execution_count": 4,
   "metadata": {},
   "outputs": [
    {
     "name": "stdout",
     "output_type": "stream",
     "text": [
      "Shape of train tensor: (202176, 2, 250)\n",
      "Shape of test tensor: (202175, 2, 250)\n"
     ]
    }
   ],
   "source": [
    "# Combine Questions 1 And 2 Into an input with multiple dimensions\n",
    "test_size = int(num_of_records * 0.3)\n",
    "train_size = num_of_records-test_size\n",
    "\n",
    "train_data = np.ones((2, train_size, maxlen))\n",
    "test_data = np.ones((2, test_size, maxlen))\n",
    "\n",
    "train_data[0] = questions_1_sequences[test_size:]\n",
    "train_data[1] = questions_2_sequences[test_size:]\n",
    "test_data[0] = questions_1_sequences[:test_size]\n",
    "test_data[1] = questions_2_sequences[:test_size]\n",
    "train_labels = labels[test_size:]\n",
    "test_labels = labels[:test_size]\n",
    "\n",
    "# Swap 0 and 1 axis, so number of examples is axis 0.\n",
    "train_data = np.swapaxes(train_data, 1, 0)\n",
    "test_data = np.swapaxes(test_data, 1, 0)\n",
    "\n",
    "print('Shape of train tensor:', train_data.shape)\n",
    "print('Shape of test tensor:', test_data.shape)"
   ]
  },
  {
   "cell_type": "markdown",
   "metadata": {},
   "source": [
    "## Build Model\n",
    "Here we will build a small dense model for training."
   ]
  },
  {
   "cell_type": "code",
   "execution_count": 28,
   "metadata": {},
   "outputs": [
    {
     "name": "stdout",
     "output_type": "stream",
     "text": [
      "Train on 161740 samples, validate on 40436 samples\n",
      "Epoch 1/10\n",
      "161740/161740 [==============================] - 4s 25us/step - loss: 4.8653 - acc: 0.6113 - val_loss: 3.6582 - val_acc: 0.6201\n",
      "Epoch 2/10\n",
      "161740/161740 [==============================] - 3s 20us/step - loss: 2.4916 - acc: 0.6217 - val_loss: 1.7265 - val_acc: 0.6720\n",
      "Epoch 3/10\n",
      "161740/161740 [==============================] - 3s 21us/step - loss: 1.0780 - acc: 0.6305 - val_loss: 0.7349 - val_acc: 0.6266\n",
      "Epoch 4/10\n",
      "161740/161740 [==============================] - 3s 19us/step - loss: 0.6911 - acc: 0.6498 - val_loss: 0.6407 - val_acc: 0.6905\n",
      "Epoch 5/10\n",
      "161740/161740 [==============================] - 3s 19us/step - loss: 0.6486 - acc: 0.6719 - val_loss: 0.6266 - val_acc: 0.6892\n",
      "Epoch 6/10\n",
      "161740/161740 [==============================] - 3s 19us/step - loss: 0.6418 - acc: 0.6769 - val_loss: 0.6337 - val_acc: 0.6832\n",
      "Epoch 7/10\n",
      "161740/161740 [==============================] - 3s 19us/step - loss: 0.6376 - acc: 0.6774 - val_loss: 0.6280 - val_acc: 0.6859\n",
      "Epoch 8/10\n",
      "161740/161740 [==============================] - 4s 22us/step - loss: 0.6324 - acc: 0.6781 - val_loss: 0.6299 - val_acc: 0.6824\n",
      "Epoch 9/10\n",
      "161740/161740 [==============================] - 3s 19us/step - loss: 0.6314 - acc: 0.6791 - val_loss: 0.6227 - val_acc: 0.6910\n",
      "Epoch 10/10\n",
      "161740/161740 [==============================] - 3s 19us/step - loss: 0.6278 - acc: 0.6815 - val_loss: 0.6166 - val_acc: 0.6919\n"
     ]
    }
   ],
   "source": [
    "# Build Model and Train\n",
    "from keras.models import Sequential\n",
    "from keras.layers import Flatten, Dense, Embedding\n",
    "\n",
    "model = Sequential()\n",
    "model.add(Dense(32, activation='relu', input_shape=(2,250)))\n",
    "model.add(Dense(16, activation='relu'))\n",
    "model.add(Flatten())\n",
    "model.add(Dense(1, activation='sigmoid'))\n",
    "model.compile(optimizer='rmsprop', loss='binary_crossentropy', metrics=['acc'])\n",
    "# model.summary()\n",
    "\n",
    "history = model.fit(train_data, train_labels,\n",
    "                    epochs=10,\n",
    "                    batch_size=128,\n",
    "                    validation_split=0.2)"
   ]
  },
  {
   "cell_type": "markdown",
   "metadata": {},
   "source": [
    "## Evaludate Model\n",
    "Upon evaluation of the current model, we reach a decent training and validation accuracy, of ~68%\n",
    "The loss is also faily low and consistent.  Therefore, our model is not overfitting."
   ]
  },
  {
   "cell_type": "code",
   "execution_count": 29,
   "metadata": {},
   "outputs": [
    {
     "data": {
      "image/png": "[encoded data removed]",
      "text/plain": [
       "<Figure size 432x288 with 1 Axes>"
      ]
     },
     "metadata": {},
     "output_type": "display_data"
    },
    {
     "data": {
      "image/png": "[encoded data removed]",
      "text/plain": [
       "<Figure size 432x288 with 1 Axes>"
      ]
     },
     "metadata": {},
     "output_type": "display_data"
    }
   ],
   "source": [
    "# Plot for Evaluation\n",
    "import matplotlib.pyplot as plt\n",
    "\n",
    "acc = history.history['acc']\n",
    "val_acc = history.history['val_acc']\n",
    "loss = history.history['loss']\n",
    "val_loss = history.history['val_loss']\n",
    "\n",
    "epochs = range(1, len(acc) + 1)\n",
    "\n",
    "plt.plot(epochs, acc, 'bo', label='Training acc')\n",
    "plt.plot(epochs, val_acc, 'b', label='Validation acc')\n",
    "plt.title('Training and validation accuracy')\n",
    "plt.legend()\n",
    "\n",
    "plt.figure()\n",
    "\n",
    "plt.plot(epochs, loss, 'bo', label='Training loss')\n",
    "plt.plot(epochs, val_loss, 'b', label='Validation loss')\n",
    "plt.title('Training and validation loss')\n",
    "plt.legend()\n",
    "\n",
    "plt.show()"
   ]
  },
  {
   "cell_type": "markdown",
   "metadata": {},
   "source": [
    "## Test Data\n",
    "Now we will run model on test data, and with this simple model, we get 68% accuracy."
   ]
  },
  {
   "cell_type": "code",
   "execution_count": 30,
   "metadata": {},
   "outputs": [
    {
     "name": "stdout",
     "output_type": "stream",
     "text": [
      "202175/202175 [==============================] - 4s 20us/step\n",
      "test_acc: 0.6801582787201109\n",
      "test_loss: 0.6263768313964985\n"
     ]
    }
   ],
   "source": [
    "test_loss, test_acc = model.evaluate(test_data, test_labels)\n",
    "print('test_acc:', test_acc)\n",
    "print('test_loss:', test_loss)"
   ]
  },
  {
   "cell_type": "code",
   "execution_count": null,
   "metadata": {},
   "outputs": [],
   "source": []
  }
 ],
 "metadata": {
  "kernelspec": {
   "display_name": "Python 3",
   "language": "python",
   "name": "python3"
  },
  "language_info": {
   "codemirror_mode": {
    "name": "ipython",
    "version": 3
   },
   "file_extension": ".py",
   "mimetype": "text/x-python",
   "name": "python",
   "nbconvert_exporter": "python",
   "pygments_lexer": "ipython3",
   "version": "3.6.5"
  }
 },
 "nbformat": 4,
 "nbformat_minor": 2
}
