{
 "cells": [
  {
   "cell_type": "markdown",
   "metadata": {},
   "source": [
    "# Conv1D Model Approach\n",
    "\n",
    "## Read Data from CSV File"
   ]
  },
  {
   "cell_type": "code",
   "execution_count": 1,
   "metadata": {},
   "outputs": [],
   "source": [
    "# Read Data\n",
    "import pandas as pd\n",
    "import numpy as np\n",
    "import os\n",
    "\n",
    "data = pd.read_csv('./questions.csv')\n",
    "\n",
    "data.question1 = data.question1.astype(str)\n",
    "data.question2 = data.question2.astype(str)\n",
    "\n",
    "questions_1 = data.question1\n",
    "questions_2 = data.question2\n",
    "is_duplicate = data.is_duplicate\n",
    "num_of_records = len(data)"
   ]
  },
  {
   "cell_type": "markdown",
   "metadata": {},
   "source": [
    "## Preprocess Data\n",
    "We will pad all sentences to 250 characters and tokenize them."
   ]
  },
  {
   "cell_type": "code",
   "execution_count": 2,
   "metadata": {},
   "outputs": [
    {
     "name": "stderr",
     "output_type": "stream",
     "text": [
      "/Users/harsimranb/anaconda3/envs/tensorflow/lib/python3.6/site-packages/h5py/__init__.py:36: FutureWarning: Conversion of the second argument of issubdtype from `float` to `np.floating` is deprecated. In future, it will be treated as `np.float64 == np.dtype(float).type`.\n",
      "  from ._conv import register_converters as _register_converters\n",
      "Using TensorFlow backend.\n"
     ]
    },
    {
     "name": "stdout",
     "output_type": "stream",
     "text": [
      "Shape of questions_1_sequences tensor: (404351, 250)\n",
      "Shape of questions_2_sequences tensor: (404351, 250)\n",
      "Shape of labels tensor: (404351,)\n"
     ]
    }
   ],
   "source": [
    "# Preprocess Data\n",
    "from keras.preprocessing.text import Tokenizer\n",
    "from keras.preprocessing.sequence import pad_sequences\n",
    "\n",
    "maxlen = 250\n",
    "\n",
    "def get_sequences_padded(input_texts):\n",
    "    tokenizer = Tokenizer()\n",
    "    tokenizer.fit_on_texts(input_texts)\n",
    "    seq = tokenizer.texts_to_sequences(input_texts)\n",
    "    seq = pad_sequences(seq, maxlen=maxlen)\n",
    "    return seq\n",
    "\n",
    "labels = np.asarray(is_duplicate).astype('float32')\n",
    "questions_1_sequences = get_sequences_padded(questions_1)\n",
    "questions_2_sequences = get_sequences_padded(questions_2)\n",
    "\n",
    "print('Shape of questions_1_sequences tensor:', questions_1_sequences.shape)\n",
    "print('Shape of questions_2_sequences tensor:', questions_2_sequences.shape)\n",
    "print('Shape of labels tensor:', labels.shape)"
   ]
  },
  {
   "cell_type": "markdown",
   "metadata": {},
   "source": [
    "Now we will distribute the test and train size.  The test data will be 30% of the total data.\n",
    "We also reshape the vector and combine question 1 and 2 dimension into 1 dimension."
   ]
  },
  {
   "cell_type": "code",
   "execution_count": 4,
   "metadata": {},
   "outputs": [
    {
     "name": "stdout",
     "output_type": "stream",
     "text": [
      "Shape of train tensor: (283046, 500)\n",
      "Shape of test tensor: (121305, 500)\n"
     ]
    }
   ],
   "source": [
    "# Combine Questions 1 And 2 Into an input with multiple dimensions\n",
    "test_size = int(num_of_records * 0.3)\n",
    "train_size = num_of_records-test_size\n",
    "\n",
    "train_data = np.ones((2, train_size, maxlen))\n",
    "test_data = np.ones((2, test_size, maxlen))\n",
    "\n",
    "train_data[0] = questions_1_sequences[test_size:]\n",
    "train_data[1] = questions_2_sequences[test_size:]\n",
    "test_data[0] = questions_1_sequences[:test_size]\n",
    "test_data[1] = questions_2_sequences[:test_size]\n",
    "train_labels = labels[test_size:]\n",
    "test_labels = labels[:test_size]\n",
    "\n",
    "# Swap 0 and 1 axis, so number of examples is axis 0.\n",
    "train_data = np.swapaxes(train_data, 1, 0)\n",
    "test_data = np.swapaxes(test_data, 1, 0)\n",
    "\n",
    "# Reshape\n",
    "train_data = train_data.reshape(train_size, 2 * 250)\n",
    "test_data = test_data.reshape(test_size, 2 * 250)\n",
    "\n",
    "print('Shape of train tensor:', train_data.shape)\n",
    "print('Shape of test tensor:', test_data.shape)"
   ]
  },
  {
   "cell_type": "markdown",
   "metadata": {},
   "source": [
    "## Build Model\n",
    "Here we will build a small dense model for training."
   ]
  },
  {
   "cell_type": "code",
   "execution_count": 8,
   "metadata": {},
   "outputs": [
    {
     "name": "stdout",
     "output_type": "stream",
     "text": [
      "Train on 226436 samples, validate on 56610 samples\n",
      "Epoch 1/10\n",
      "226436/226436 [==============================] - 654s 3ms/step - loss: 0.6038 - acc: 0.6742 - val_loss: 0.5577 - val_acc: 0.7218\n",
      "Epoch 2/10\n",
      "226436/226436 [==============================] - 1035s 5ms/step - loss: 0.5529 - acc: 0.7277 - val_loss: 0.5492 - val_acc: 0.7349\n",
      "Epoch 3/10\n",
      "226436/226436 [==============================] - 651s 3ms/step - loss: 0.5382 - acc: 0.7419 - val_loss: 0.5592 - val_acc: 0.7415\n",
      "Epoch 4/10\n",
      "226436/226436 [==============================] - 635s 3ms/step - loss: 0.5246 - acc: 0.7515 - val_loss: 0.5468 - val_acc: 0.7465\n",
      "Epoch 5/10\n",
      "226436/226436 [==============================] - 634s 3ms/step - loss: 0.5126 - acc: 0.7590 - val_loss: 0.5467 - val_acc: 0.7474\n",
      "Epoch 6/10\n",
      "226436/226436 [==============================] - 636s 3ms/step - loss: 0.5008 - acc: 0.7666 - val_loss: 0.5602 - val_acc: 0.7527\n",
      "Epoch 7/10\n",
      "226436/226436 [==============================] - 628s 3ms/step - loss: 0.4897 - acc: 0.7731 - val_loss: 0.5497 - val_acc: 0.7562\n",
      "Epoch 8/10\n",
      "226436/226436 [==============================] - 633s 3ms/step - loss: 0.4798 - acc: 0.7802 - val_loss: 0.5591 - val_acc: 0.7588\n",
      "Epoch 9/10\n",
      "226436/226436 [==============================] - 635s 3ms/step - loss: 0.4685 - acc: 0.7869 - val_loss: 0.5652 - val_acc: 0.7598\n",
      "Epoch 10/10\n",
      "226436/226436 [==============================] - 638s 3ms/step - loss: 0.4574 - acc: 0.7931 - val_loss: 0.5808 - val_acc: 0.7632\n"
     ]
    }
   ],
   "source": [
    "# Build Model and Train\n",
    "from keras.models import Sequential\n",
    "from keras.optimizers import RMSprop\n",
    "import keras.layers as layers\n",
    "\n",
    "model = Sequential()\n",
    "model.add(layers.Embedding(train_size, 64, input_length=500))\n",
    "# model.add(layers.Conv1D(32, 7, activation='relu'))\n",
    "# model.add(layers.MaxPooling1D(5))\n",
    "model.add(layers.Conv1D(32, 7, activation='relu'))\n",
    "model.add(layers.GlobalMaxPooling1D())\n",
    "model.add(layers.Dense(1))\n",
    "\n",
    "model.compile(optimizer=RMSprop(lr=1e-4),\n",
    "              loss='binary_crossentropy',\n",
    "              metrics=['acc'])\n",
    "history = model.fit(train_data, train_labels,\n",
    "                    epochs=10,\n",
    "                    batch_size=128,\n",
    "                    validation_split=0.2)\n",
    "model.save('embedding_Conv1D.h5')"
   ]
  },
  {
   "cell_type": "markdown",
   "metadata": {},
   "source": [
    "## Evaludate Model\n",
    "Upon evaluation of the current model, we reach a decent training and validation accuracy, of ~79%\n",
    "The loss is also faily low and consistent.  However, our model might be overfitting a bit because training loss and validation loss diverge a bit."
   ]
  },
  {
   "cell_type": "code",
   "execution_count": 10,
   "metadata": {},
   "outputs": [
    {
     "data": {
      "image/png": "[encoded data removed]",
      "text/plain": [
       "<Figure size 432x288 with 1 Axes>"
      ]
     },
     "metadata": {},
     "output_type": "display_data"
    },
    {
     "data": {
      "image/png": "[encoded data removed]",
      "text/plain": [
       "<Figure size 432x288 with 1 Axes>"
      ]
     },
     "metadata": {},
     "output_type": "display_data"
    }
   ],
   "source": [
    "# Plot for Evaluation\n",
    "import matplotlib.pyplot as plt\n",
    "\n",
    "acc = history.history['acc']\n",
    "val_acc = history.history['val_acc']\n",
    "loss = history.history['loss']\n",
    "val_loss = history.history['val_loss']\n",
    "\n",
    "epochs = range(1, len(acc) + 1)\n",
    "\n",
    "plt.plot(epochs, acc, 'bo', label='Training acc')\n",
    "plt.plot(epochs, val_acc, 'b', label='Validation acc')\n",
    "plt.title('Training and validation accuracy')\n",
    "plt.legend()\n",
    "\n",
    "plt.figure()\n",
    "\n",
    "plt.plot(epochs, loss, 'bo', label='Training loss')\n",
    "plt.plot(epochs, val_loss, 'b', label='Validation loss')\n",
    "plt.title('Training and validation loss')\n",
    "plt.legend()\n",
    "\n",
    "plt.show()"
   ]
  },
  {
   "cell_type": "markdown",
   "metadata": {},
   "source": [
    "## Test Data\n",
    "Now we will run model on test data, and with this Conv1D model, we get 75% accuracy."
   ]
  },
  {
   "cell_type": "code",
   "execution_count": 11,
   "metadata": {},
   "outputs": [
    {
     "name": "stdout",
     "output_type": "stream",
     "text": [
      "121305/121305 [==============================] - 90s 740us/step\n",
      "test_acc: 0.7572565022022371\n",
      "test_loss: 0.5941898419612228\n"
     ]
    }
   ],
   "source": [
    "test_loss, test_acc = model.evaluate(test_data, test_labels)\n",
    "print('test_acc:', test_acc)\n",
    "print('test_loss:', test_loss)"
   ]
  },
  {
   "cell_type": "code",
   "execution_count": null,
   "metadata": {},
   "outputs": [],
   "source": []
  }
 ],
 "metadata": {
  "kernelspec": {
   "display_name": "Python 3",
   "language": "python",
   "name": "python3"
  },
  "language_info": {
   "codemirror_mode": {
    "name": "ipython",
    "version": 3
   },
   "file_extension": ".py",
   "mimetype": "text/x-python",
   "name": "python",
   "nbconvert_exporter": "python",
   "pygments_lexer": "ipython3",
   "version": "3.6.5"
  }
 },
 "nbformat": 4,
 "nbformat_minor": 2
}
